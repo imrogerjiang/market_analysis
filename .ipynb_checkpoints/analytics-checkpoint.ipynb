{
 "cells": [
  {
   "cell_type": "code",
   "execution_count": 2,
   "id": "0d814e8e",
   "metadata": {},
   "outputs": [],
   "source": [
    "import sys\n",
    "import glob\n",
    "import os\n",
    "import pandas as pd\n",
    "import statsmodels.api as sm\n",
    "import matplotlib.pyplot as plt\n",
    "from matplotlib.ticker import FuncFormatter, MaxNLocator\n",
    "import numpy as np"
   ]
  },
  {
   "cell_type": "markdown",
   "id": "1d852000",
   "metadata": {},
   "source": [
    "## Settings"
   ]
  },
  {
   "cell_type": "code",
   "execution_count": 3,
   "id": "4ec5b9b9",
   "metadata": {},
   "outputs": [],
   "source": [
    "budget = [13_000, 18_000]\n",
    "year = 2015               # Newer than or equal to\n",
    "odo = [0, 100]                 # Odo less than\n",
    "data_date = \"02/10/2025\"\n",
    "n_highlighted = 10"
   ]
  },
  {
   "cell_type": "code",
   "execution_count": 4,
   "id": "cd9227c5",
   "metadata": {},
   "outputs": [],
   "source": [
    "# csv_prefix = \"/a3\"\n",
    "# model_name = \"Aldi a3 (Quattro)\"\n",
    "\n",
    "# csv_prefix = \"/r\"\n",
    "# model_name = \"Golf R\"\n",
    "\n",
    "# csv_prefix = \"/gti\"\n",
    "# model_name = \"Golf GTI\"\n",
    "\n",
    "# csv_prefix = \"/maz3\"\n",
    "# model_name = \"Mazda 3\""
   ]
  },
  {
   "cell_type": "markdown",
   "id": "e083e564",
   "metadata": {},
   "source": [
    "## Loading carsales data"
   ]
  },
  {
   "cell_type": "code",
   "execution_count": 5,
   "id": "3316c1a0",
   "metadata": {},
   "outputs": [
    {
     "data": {
      "text/plain": [
       "'/home/roger/Secondhand-Hero/Clients/zilhaz'"
      ]
     },
     "execution_count": 5,
     "metadata": {},
     "output_type": "execute_result"
    }
   ],
   "source": [
    "os.getcwd()"
   ]
  },
  {
   "cell_type": "code",
   "execution_count": 6,
   "id": "85e4be72",
   "metadata": {
    "scrolled": true
   },
   "outputs": [
    {
     "name": "stdout",
     "output_type": "stream",
     "text": [
      "Files loaded:\n",
      "/home/roger/Secondhand-Hero/Clients/zilhaz/maz3_2.csv\n",
      "/home/roger/Secondhand-Hero/Clients/zilhaz/maz3_1.csv\n"
     ]
    }
   ],
   "source": [
    "csv_prefix = csv_prefix.lstrip(\"/\")  # remove leading slash\n",
    "csv_files = glob.glob(os.path.join(os.getcwd(), f\"{csv_prefix}_*.csv\"))\n",
    "csv_files = [e for e in csv_files if e[-7:]!=\"all.csv\"]\n",
    "\n",
    "if not csv_files:\n",
    "    print(f\"No files found with prefix '{csv_prefix}'\")\n",
    "    sys.exit(1)\n",
    "\n",
    "cs_list = [pd.read_csv(file) for file in csv_files]\n",
    "cs = pd.concat(cs_list, ignore_index=True)\n",
    "\n",
    "print(\"Files loaded:\")\n",
    "for file_name in csv_files:\n",
    "    print(file_name)"
   ]
  },
  {
   "cell_type": "markdown",
   "id": "74792d48",
   "metadata": {},
   "source": [
    "## Loading facebook data"
   ]
  },
  {
   "cell_type": "code",
   "execution_count": 7,
   "id": "8c717d3d",
   "metadata": {},
   "outputs": [
    {
     "name": "stdout",
     "output_type": "stream",
     "text": [
      "Columns before dedup:102\n",
      "Columns after dedup:81\n",
      "Files loaded:\n",
      "/home/roger/Secondhand-Hero/Clients/zilhaz/maz3fb_2.csv\n",
      "/home/roger/Secondhand-Hero/Clients/zilhaz/maz3fb_1.csv\n",
      "/home/roger/Secondhand-Hero/Clients/zilhaz/maz3fb_3.csv\n"
     ]
    }
   ],
   "source": [
    "csv_prefix = csv_prefix.lstrip(\"/\")  # remove leading slash\n",
    "csv_files = glob.glob(os.path.join(os.getcwd(), f\"{csv_prefix}fb_*.csv\"))\n",
    "csv_files = [e for e in csv_files if e[-7:]!=\"all.csv\"]\n",
    "\n",
    "if not csv_files:\n",
    "    print(f\"No files found with prefix '{csv_prefix}'\")\n",
    "    sys.exit(1)\n",
    "\n",
    "fb_list = [pd.read_csv(file) for file in csv_files]\n",
    "fb = pd.concat(fb_list, ignore_index=True)\n",
    "rows_pre_drop = len(fb)\n",
    "fb = fb.drop_duplicates()\n",
    "rows_post_drop = len(fb)\n",
    "\n",
    "print(f\"Columns before dedup:{rows_pre_drop}\")\n",
    "print(f\"Columns after dedup:{rows_post_drop}\")\n",
    "\n",
    "\n",
    "# Removing listings with unrealistic price\n",
    "fb = fb[fb[\"price\"]>=5000]\n",
    "\n",
    "# Removing listings with null values\n",
    "fb = fb.dropna(subset=[\"price\",\"odometer\",\"year\"])\n",
    "\n",
    "print(\"Files loaded:\")\n",
    "for file_name in csv_files:\n",
    "    print(file_name)"
   ]
  },
  {
   "cell_type": "code",
   "execution_count": 8,
   "id": "8346ffae",
   "metadata": {},
   "outputs": [],
   "source": [
    "# fb1 = pd.DataFrame({\n",
    "#     'href': [\"https://www.facebook.com/marketplace/item/831801379520478/\"],\n",
    "#     'year': [2018],\n",
    "#     'make': [\"Audi\"],\n",
    "#     \"model\":[\"a3\"],\n",
    "#     \"price\":[27500],\n",
    "#     \"odometer\":[72]\n",
    "# })\n",
    "fb2 = pd.DataFrame({\n",
    "    'href': [\"https://www.carsales.com.au/cars/details/2018-audi-a3-40-tfsi-auto-quattro-my19/SSE-AD-14456019/\"],\n",
    "    'year': [2018],\n",
    "    'make': [\"Audi\"],\n",
    "    \"model\":[\"A3\"],\n",
    "    \"price\":[28500],\n",
    "    \"odometer\":[35]\n",
    "})\n",
    "# fb3 = pd.DataFrame({\n",
    "#     'href': [\"https://www.facebook.com/marketplace/item/1249880686641384\"],\n",
    "#     'year': [2017],\n",
    "#     'make': [\"VW\"],\n",
    "#     \"model\":[\"Golf GTI\"],\n",
    "#     \"price\":[27500],\n",
    "#     \"odometer\":[60]\n",
    "# })\n",
    "\n",
    "df1 = pd.concat([\n",
    "    cs, \n",
    "    fb, \n",
    "#                  fb1, \n",
    "#                  fb2, \n",
    "#                  fb3\n",
    "                ], ignore_index=True)\n",
    "\n",
    "# Remove duplicates for cars in both carsales/fb marketplace\n",
    "df1=df1.drop_duplicates(subset=['year', 'price', 'odometer'])"
   ]
  },
  {
   "cell_type": "raw",
   "id": "0a50cb06",
   "metadata": {},
   "source": [
    "#remove outliers\n",
    "if csv_prefix == client_prefix + \"/cx5\":\n",
    "    df1 = df1[df1[\"odometer\"]<300]"
   ]
  },
  {
   "cell_type": "code",
   "execution_count": 9,
   "id": "d440aed1",
   "metadata": {
    "scrolled": true
   },
   "outputs": [
    {
     "name": "stdout",
     "output_type": "stream",
     "text": [
      "                            OLS Regression Results                            \n",
      "==============================================================================\n",
      "Dep. Variable:                  price   R-squared:                       0.696\n",
      "Model:                            OLS   Adj. R-squared:                  0.691\n",
      "Method:                 Least Squares   F-statistic:                     130.5\n",
      "Date:                Wed, 01 Oct 2025   Prob (F-statistic):           3.36e-30\n",
      "Time:                        21:58:10   Log-Likelihood:                -1049.5\n",
      "No. Observations:                 117   AIC:                             2105.\n",
      "Df Residuals:                     114   BIC:                             2113.\n",
      "Df Model:                           2                                         \n",
      "Covariance Type:            nonrobust                                         \n",
      "==============================================================================\n",
      "                 coef    std err          t      P>|t|      [0.025      0.975]\n",
      "------------------------------------------------------------------------------\n",
      "const      -1.774e+06   2.78e+05     -6.378      0.000   -2.33e+06   -1.22e+06\n",
      "year         891.1247    137.946      6.460      0.000     617.854    1164.396\n",
      "odometer     -44.0890      3.543    -12.443      0.000     -51.108     -37.070\n",
      "==============================================================================\n",
      "Omnibus:                        2.236   Durbin-Watson:                   2.140\n",
      "Prob(Omnibus):                  0.327   Jarque-Bera (JB):                1.803\n",
      "Skew:                          -0.138   Prob(JB):                        0.406\n",
      "Kurtosis:                       3.542   Cond. No.                     3.15e+06\n",
      "==============================================================================\n",
      "\n",
      "Notes:\n",
      "[1] Standard Errors assume that the covariance matrix of the errors is correctly specified.\n",
      "[2] The condition number is large, 3.15e+06. This might indicate that there are\n",
      "strong multicollinearity or other numerical problems.\n"
     ]
    }
   ],
   "source": [
    "# Prepare data for regression\n",
    "X = df1[['year','odometer']]\n",
    "X = sm.add_constant(X)\n",
    "y = df1['price']\n",
    "\n",
    "# Fit linear regression\n",
    "model = sm.OLS(y, X).fit()\n",
    "\n",
    "# Print regression results\n",
    "print(model.summary())\n",
    "\n",
    "# Predict prices\n",
    "df1['predicted_price'] = model.predict(X)\n",
    "df1['value_diff'] = df1['predicted_price'] - df1['price']"
   ]
  },
  {
   "cell_type": "raw",
   "id": "f629aae5",
   "metadata": {},
   "source": [
    "# Check price given odo/year\n",
    "\n",
    "price = 15000\n",
    "new_data = pd.DataFrame([{\n",
    "    'const': 1.0,\n",
    "    'year': 2017,\n",
    "    'odometer': 117\n",
    "}])\n",
    "predicted_price = model.predict(new_data).iloc[0]\n",
    "diff = predicted_price - price\n",
    "print(f\"{price=}, {predicted_price=:.2f}, {diff=:.2f}\")\n"
   ]
  },
  {
   "cell_type": "code",
   "execution_count": 65,
   "id": "02ea7bc9",
   "metadata": {},
   "outputs": [],
   "source": [
    "# Identify n best value cars\n",
    "\n",
    "# within_crit = df1[\n",
    "#     (df1['price']>budget[0])&(df1[\"price\"]<budget[1]) & \n",
    "#     (df1['year']>=year) & \n",
    "#     (df1['odometer']>odo[0])&(df1['odometer']<=odo[1])\n",
    "# ]\n",
    "\n",
    "\n",
    "# manual\n",
    "# within_crit = within_crit[within_crit[\"href\"].str.contains(\"manual\", case=False, na=False)]\n",
    "\n",
    "\n",
    "within_crit = df1[df1[\"href\"].isin([\n",
    "    \"https://www.facebook.com/marketplace/item/683265941447037/\",\n",
    "    \"https://www.carsales.com.au/cars/details/2017-mazda-3-maxx-bn-series-auto/SSE-AD-13498173/\",\n",
    "])]\n",
    "\n",
    "# within_crit = df1[df1[\"price\"]==28500]"
   ]
  },
  {
   "cell_type": "code",
   "execution_count": 66,
   "id": "b3e928db",
   "metadata": {},
   "outputs": [],
   "source": [
    "# Remove bad listings\n",
    "within_crit = within_crit[~within_crit[\"href\"].isin([\n",
    "    \"https://www.facebook.com/marketplace/item/1118303947066939/\", #cx3\n",
    "    \"https://www.facebook.com/marketplace/item/2051574275346383/\", #white colour\n",
    "    \"https://www.carsales.com.au/cars/details/2016-mazda-3-maxx-bm-series-auto/SSE-AD-18538447/\", #denistone + damage\n",
    "    \"https://www.carsales.com.au/cars/details/2017-mazda-3-maxx-bn-series-auto/SSE-AD-19520691/\", #hatch\n",
    "    \"https://www.carsales.com.au/cars/details/2016-mazda-3-maxx-bm-series-auto/SSE-AD-19531670/\", #hatch\n",
    "    \"https://www.facebook.com/marketplace/item/2678724722510122/\", #hatch\n",
    "    \"https://www.facebook.com/marketplace/item/4224736151108534/\", #hatch\n",
    "])]"
   ]
  },
  {
   "cell_type": "code",
   "execution_count": 67,
   "id": "46679745",
   "metadata": {},
   "outputs": [],
   "source": [
    "# Rank the top-n best-value cars (1 = best)\n",
    "best_n = within_crit.sort_values('value_diff', ascending=False).head(n_highlighted).copy()\n",
    "best_n['rank'] = np.arange(1, len(best_n) + 1)"
   ]
  },
  {
   "cell_type": "code",
   "execution_count": 68,
   "id": "4a93e950",
   "metadata": {},
   "outputs": [],
   "source": [
    "other_listings = df1.merge(best_n, how=\"outer\", indicator=True) \\\n",
    "          .query('_merge == \"left_only\"') \\\n",
    "          .drop(columns=\"_merge\")"
   ]
  },
  {
   "cell_type": "code",
   "execution_count": 69,
   "id": "f326b559",
   "metadata": {
    "scrolled": false
   },
   "outputs": [
    {
     "name": "stdout",
     "output_type": "stream",
     "text": [
      "Car 1\n",
      "Link: https://www.facebook.com/marketplace/item/683265941447037/\n",
      "Price: $15,300\n",
      "Market Value: $16,835\n",
      "Year: 2014\n",
      "Odometer: 83,000km\n",
      "\n",
      "Car 2\n",
      "Link: https://www.carsales.com.au/cars/details/2017-mazda-3-maxx-bn-series-auto/SSE-AD-13498173/\n",
      "Price: $17,955\n",
      "Market Value: $19,023\n",
      "Year: 2017\n",
      "Odometer: 94,000km\n",
      "\n"
     ]
    }
   ],
   "source": [
    "# Output best n cars in a copy/pastable table format\n",
    "for _, row in best_n.iterrows():\n",
    "    print(f\"Car {row['rank']}\")\n",
    "    print(f\"Link: {row['href']}\")\n",
    "    print(f\"Price: ${row['price']:,}\")\n",
    "    print(f\"Market Value: ${row['predicted_price']:,.0f}\")\n",
    "    print(f\"Year: {row['year']}\")\n",
    "    print(f\"Odometer: {row['odometer']:,.0f},000km\\n\")"
   ]
  },
  {
   "cell_type": "code",
   "execution_count": 70,
   "id": "7cdd9c54",
   "metadata": {
    "scrolled": false
   },
   "outputs": [
    {
     "data": {
      "image/png": "[encoded data removed]",
      "text/plain": [
       "<Figure size 1200x500 with 2 Axes>"
      ]
     },
     "metadata": {},
     "output_type": "display_data"
    }
   ],
   "source": [
    "# Function to format price axis\n",
    "def price_format(x, _):\n",
    "    return f'${int(x):,}'\n",
    "\n",
    "# Plotting\n",
    "fig, (ax1, ax2) = plt.subplots(1, 2, figsize=(12, 5))\n",
    "\n",
    "# Scatter (Year vs Price)\n",
    "ax1.scatter(other_listings['year'], other_listings['price'], label='Data', color='lightsteelblue', s=20)\n",
    "\n",
    "for _, row in best_n.iterrows():\n",
    "    ax1.scatter(row['year'], row['price'], s=70, facecolors='none',  linewidths=1.2)\n",
    "    ax1.text(row['year'], row['price'], str(int(row['rank'])),\n",
    "             ha='center', va='center', fontsize=10, fontweight='bold', color='red', alpha = 0.7\n",
    "#              bbox=dict(boxstyle='round,pad=0', fc='white', ec='none')\n",
    "            )\n",
    "\n",
    "# Regression line (fix odometer at mean)\n",
    "year_range = np.linspace(other_listings['year'].min(), other_listings['year'].max(), 100)\n",
    "mean_odometer = other_listings['odometer'].mean()\n",
    "X_line = pd.DataFrame({\n",
    "    'const': 1,\n",
    "    'year': year_range,\n",
    "    'odometer': [mean_odometer]*100\n",
    "})\n",
    "y_line = model.predict(X_line)\n",
    "ax1.plot(year_range, y_line, label='Regression line')\n",
    "\n",
    "ax1.xaxis.set_major_locator(MaxNLocator(integer=True))\n",
    "ax1.yaxis.set_major_formatter(FuncFormatter(price_format))\n",
    "ax1.set_xlabel('Model Year')\n",
    "ax1.set_ylabel('Price')\n",
    "ax1.set_title(f\"{model_name} Price For Different Years\")\n",
    "\n",
    "# Scatter (Odometer vs Price)\n",
    "ax2.scatter(other_listings['odometer'], other_listings['price'], label='Data', color='lightsteelblue', s=20)\n",
    "\n",
    "for _, row in best_n.iterrows():\n",
    "    ax2.scatter(row['odometer'], row['price'], s=70, facecolors='none',  linewidths=1.2)\n",
    "    ax2.text(row['odometer'], row['price'], str(int(row['rank'])),\n",
    "             ha='center', va='center', fontsize=10, fontweight='bold', color='red', alpha = 0.7\n",
    "#              bbox=dict(boxstyle='round,pad=0', fc='white', ec='none')\n",
    "            )\n",
    "\n",
    "# Regression line (fix year at mean)\n",
    "odometer_range = np.linspace(other_listings['odometer'].min(), other_listings['odometer'].max(), 100)\n",
    "mean_year = other_listings['year'].mean()\n",
    "X_line2 = pd.DataFrame({\n",
    "    'const': 1,\n",
    "    'year': [mean_year]*100,\n",
    "    'odometer': odometer_range\n",
    "})\n",
    "y_line2 = model.predict(X_line2)\n",
    "ax2.plot(odometer_range, y_line2, label='Regression line')\n",
    "\n",
    "ax2.yaxis.set_major_formatter(FuncFormatter(price_format))\n",
    "ax2.set_xlabel('Odometer (thousand kms)')\n",
    "ax2.set_ylabel('Price')\n",
    "ax2.set_title(f\"{model_name} Price For Different Mileage\")\n",
    "\n",
    "plt.tight_layout()\n",
    "plt.show()"
   ]
  },
  {
   "cell_type": "code",
   "execution_count": null,
   "id": "54042647",
   "metadata": {},
   "outputs": [],
   "source": []
  }
 ],
 "metadata": {
  "kernelspec": {
   "display_name": "Python 3 (ipykernel)",
   "language": "python",
   "name": "python3"
  },
  "language_info": {
   "codemirror_mode": {
    "name": "ipython",
    "version": 3
   },
   "file_extension": ".py",
   "mimetype": "text/x-python",
   "name": "python",
   "nbconvert_exporter": "python",
   "pygments_lexer": "ipython3",
   "version": "3.10.12"
  }
 },
 "nbformat": 4,
 "nbformat_minor": 5
}
